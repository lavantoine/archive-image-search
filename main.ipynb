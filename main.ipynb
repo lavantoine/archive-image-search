{
 "cells": [
  {
   "cell_type": "code",
   "execution_count": null,
   "id": "62804970",
   "metadata": {},
   "outputs": [
    {
     "name": "stdout",
     "output_type": "stream",
     "text": [
      "xtabby, tabby cat\n"
     ]
    },
    {
     "data": {
      "text/plain": [
       "(None,)"
      ]
     },
     "execution_count": 3,
     "metadata": {},
     "output_type": "execute_result"
    }
   ],
   "source": [
    "import torch\n",
    "from datasets import load_dataset\n",
    "from transformers import EfficientNetImageProcessor, EfficientNetForImageClassification\n",
    "\n",
    "dataset = load_dataset(\"huggingface/cats-image\")\n",
    "image = dataset[\"test\"][\"image\"][0]\n",
    "\n",
    "preprocessor = EfficientNetImageProcessor.from_pretrained(\"google/efficientnet-b0\")\n",
    "model = EfficientNetForImageClassification.from_pretrained(\"google/efficientnet-b0\")\n",
    "\n",
    "inputs = preprocessor(image, return_tensors=\"pt\")\n",
    "\n",
    "with torch.no_grad():\n",
    "    logits = model(**inputs).logits\n",
    "\n",
    "# model predicts one of the 1000 ImageNet classes\n",
    "predicted_label = logits.argmax(-1).item()\n",
    "print('x' + model.config.id2label[predicted_label]),"
   ]
  },
  {
   "cell_type": "code",
   "execution_count": 79,
   "id": "a5e67d47",
   "metadata": {},
   "outputs": [
    {
     "name": "stdout",
     "output_type": "stream",
     "text": [
      "cosine_similarity:  0.6427465\n"
     ]
    }
   ],
   "source": [
    "from PIL import Image\n",
    "from transformers import AutoImageProcessor, AutoModel\n",
    "from time import perf_counter\n",
    "import numpy as np\n",
    "\n",
    "\n",
    "# For TPU acceleration\n",
    "device = \"mps\" if torch.backends.mps.is_available() else \"cpu\"\n",
    "device = 'cpu'\n",
    "model_name = 'google/efficientnet-b7'\n",
    "\n",
    "    \n",
    "# Processor:\n",
    "# - resize to the expected size\n",
    "# - convert the image to a tensor [C, H, W] (channels × height × width)\n",
    "# - normalize the pixels (often between -1 and 1 or 0 and 1)\n",
    "# - add the batch dimension: [batch, C, H, W] e.g. how many samples (images) are fed to the model\n",
    "processor = AutoImageProcessor.from_pretrained(model_name)\n",
    "# Model: transform the tensor to embeddings or prediction\n",
    "model = AutoModel.from_pretrained(model_name).to(device)\n",
    "\n",
    "def embed(img_path):\n",
    "    img = Image.open(img_path).convert('L').convert('RGB')\n",
    "    # start = perf_counter()\n",
    "    inputs = processor(images=img, return_tensors='pt').to(device)\n",
    "    with torch.no_grad():\n",
    "        outputs = model(**inputs)\n",
    "    # stop = perf_counter()\n",
    "    return outputs.pooler_output[0].numpy()\n",
    "\n",
    "def cosine_similarity(a, b):\n",
    "    return np.dot(a, b) / (np.linalg.norm(a) * np.linalg.norm(b))\n",
    "\n",
    "mona0 = embed('../data/base/mona-lisa-3-crop.jpeg')\n",
    "mona1 = embed('../data/mona-lisa-1.jpg')\n",
    "\n",
    "print(\"cosine_similarity: \", cosine_similarity(mona0, mona1))"
   ]
  },
  {
   "cell_type": "code",
   "execution_count": null,
   "id": "1deab4e1",
   "metadata": {},
   "outputs": [],
   "source": [
    "from transformers import AutoImageProcessor, AutoModel\n",
    "from PIL import Image\n",
    "import torch\n",
    "import numpy as np\n",
    "\n",
    "# --- Embedding minimal ---\n",
    "processor = AutoImageProcessor.from_pretrained(\"google/efficientnet-b0\")\n",
    "model = AutoModel.from_pretrained(\"google/efficientnet-b0\")\n",
    "\n",
    "def embed(img_path):\n",
    "    img = Image.open(img_path).convert(\"RGB\")\n",
    "    inputs = processor(images=img, return_tensors=\"pt\")\n",
    "    with torch.no_grad():\n",
    "        outputs = model(**inputs)\n",
    "    return outputs.pooler_output[0].numpy()\n",
    "\n",
    "# --- Similarité cosinus ---\n",
    "def cosine_similarity(a, b):\n",
    "    return np.dot(a, b) / (np.linalg.norm(a) * np.linalg.norm(b))\n",
    "\n",
    "# --- Exemple ---\n",
    "v1 = embed(\"image1.jpg\")\n",
    "v2 = embed(\"image2.jpg\")\n",
    "print(\"Similarité :\", cosine_similarity(v1, v2))"
   ]
  }
 ],
 "metadata": {
  "kernelspec": {
   "display_name": "reverse-image-search",
   "language": "python",
   "name": "python3"
  },
  "language_info": {
   "codemirror_mode": {
    "name": "ipython",
    "version": 3
   },
   "file_extension": ".py",
   "mimetype": "text/x-python",
   "name": "python",
   "nbconvert_exporter": "python",
   "pygments_lexer": "ipython3",
   "version": "3.13.7"
  }
 },
 "nbformat": 4,
 "nbformat_minor": 5
}
